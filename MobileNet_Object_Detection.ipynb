{
 "cells": [
  {
   "cell_type": "code",
   "execution_count": 7,
   "id": "c4685260",
   "metadata": {},
   "outputs": [],
   "source": [
    "import os\n",
    "import cv2\n",
    "import numpy as np"
   ]
  },
  {
   "cell_type": "code",
   "execution_count": 110,
   "id": "c0b97cf9",
   "metadata": {},
   "outputs": [],
   "source": [
    "labels= []\n",
    "classFile = 'mobilenetv3/coco.names'\n",
    "with open(classFile,'rt') as f:\n",
    "    labels = f.read().rstrip('\\n').split('\\n')"
   ]
  },
  {
   "cell_type": "code",
   "execution_count": 111,
   "id": "77a3292d",
   "metadata": {},
   "outputs": [],
   "source": [
    "colors = np.random.randint(0, 255, size=(len(labels), 3), dtype=\"uint8\")"
   ]
  },
  {
   "cell_type": "code",
   "execution_count": 112,
   "id": "9d7b15eb",
   "metadata": {},
   "outputs": [],
   "source": [
    "configPath = 'mobilenetv3/ssd_mobilenet_v3_large_coco_2020_01_14/ssd_mobilenet_v3_large_coco_2020_01_14.pbtxt'\n",
    "weightsPath = 'mobilenetv3/ssd_mobilenet_v3_large_coco_2020_01_14/frozen_inference_graph.pb'"
   ]
  },
  {
   "cell_type": "code",
   "execution_count": 113,
   "id": "659dff14",
   "metadata": {},
   "outputs": [
    {
     "data": {
      "text/plain": [
       "<dnn_Model 000001FDD0EA2030>"
      ]
     },
     "execution_count": 113,
     "metadata": {},
     "output_type": "execute_result"
    }
   ],
   "source": [
    "net = cv2.dnn_DetectionModel(weightsPath,configPath)\n",
    "net.setInputSize(320,320)\n",
    "net.setInputScale(1.0/ 127.5)\n",
    "net.setInputMean((127.5, 127.5, 127.5))\n",
    "net.setInputSwapRB(True)"
   ]
  },
  {
   "cell_type": "code",
   "execution_count": 121,
   "id": "fecf4e62",
   "metadata": {},
   "outputs": [],
   "source": [
    "cap = cv2.VideoCapture(0)\n",
    "writer = None\n",
    "\n",
    "while cap.isOpened():\n",
    "    ret, image = cap.read()\n",
    "\n",
    "    if not ret:\n",
    "        break\n",
    "    \n",
    "    (H, W) = image.shape[:2]\n",
    "    \n",
    "    classindex, confidence, bbox = model.detect(image, confThreshold=0.6)\n",
    "    \n",
    "    if len(classindex) != 0:\n",
    "        for index, conf, box in zip(classindex.flatten(), confidence.flatten(), bbox):\n",
    "            if index <=80:\n",
    "                color = [int(c) for c in colors[index]]\n",
    "                cv2.rectangle(image, box, color, 2)\n",
    "                text = \"{}: {:.4f}\".format(labels[index-1], conf)\n",
    "                cv2.putText(image, text, (box[0], box[1] - 5), cv2.FONT_HERSHEY_SIMPLEX, 0.5, color, 2)\n",
    "      \n",
    "    if writer is None:\n",
    "        fourcc = cv2.VideoWriter_fourcc(*\"DIVX\")\n",
    "        writer = cv2.VideoWriter(\"OutputVideo.mp4\", fourcc, 15,\n",
    "        (W, H), True)\n",
    "    \n",
    "    cv2.imshow(\"Video\", image)\n",
    "#     writer.write(image)\n",
    "\n",
    "    if cv2.waitKey(10) & 0xFF == ord('q'):\n",
    "        break\n",
    "\n",
    "\n",
    "writer.release()\n",
    "cap.release()\n",
    "cv2.destroyAllWindows()"
   ]
  },
  {
   "cell_type": "code",
   "execution_count": null,
   "id": "01b4f02e",
   "metadata": {},
   "outputs": [],
   "source": []
  }
 ],
 "metadata": {
  "kernelspec": {
   "display_name": "Python 3",
   "language": "python",
   "name": "python3"
  },
  "language_info": {
   "codemirror_mode": {
    "name": "ipython",
    "version": 3
   },
   "file_extension": ".py",
   "mimetype": "text/x-python",
   "name": "python",
   "nbconvert_exporter": "python",
   "pygments_lexer": "ipython3",
   "version": "3.8.8"
  }
 },
 "nbformat": 4,
 "nbformat_minor": 5
}
